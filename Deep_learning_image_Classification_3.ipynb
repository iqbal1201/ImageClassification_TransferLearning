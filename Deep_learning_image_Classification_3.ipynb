{
  "nbformat": 4,
  "nbformat_minor": 0,
  "metadata": {
    "colab": {
      "provenance": [],
      "gpuType": "T4"
    },
    "kernelspec": {
      "name": "python3",
      "display_name": "Python 3"
    },
    "language_info": {
      "name": "python"
    },
    "accelerator": "GPU"
  },
  "cells": [
    {
      "cell_type": "markdown",
      "source": [
        "# Image Classification Deep Learning\n",
        "\n",
        "## Preprocess Dara"
      ],
      "metadata": {
        "id": "4z_3EDlkHjhb"
      }
    },
    {
      "cell_type": "code",
      "execution_count": 1,
      "metadata": {
        "id": "rNSnCdvnFMPx"
      },
      "outputs": [],
      "source": [
        "import numpy as np\n",
        "import tensorflow as tf\n",
        "from tensorflow import keras\n",
        "from tensorflow.keras.models import Sequential\n",
        "from tensorflow.keras.layers import Conv2D\n",
        "from tensorflow.keras.layers import Input, Lambda, Activation, Dense, Flatten, BatchNormalization, MaxPool2D, Dropout\n",
        "from tensorflow.keras.optimizers import Adam, RMSprop\n",
        "from tensorflow.keras.metrics import categorical_crossentropy\n",
        "from tensorflow.keras.preprocessing.image import ImageDataGenerator\n",
        "from sklearn.metrics import confusion_matrix\n",
        "from tensorflow.keras import layers\n",
        "from tensorflow.keras.models import Model\n",
        "import os"
      ]
    },
    {
      "cell_type": "code",
      "source": [
        "from google.colab import drive\n",
        "drive.mount('/content/drive')"
      ],
      "metadata": {
        "colab": {
          "base_uri": "https://localhost:8080/"
        },
        "id": "lHUPqC3wFNnD",
        "outputId": "5e38c7b3-5276-4325-8c58-9c9af8063495"
      },
      "execution_count": 2,
      "outputs": [
        {
          "output_type": "stream",
          "name": "stdout",
          "text": [
            "Mounted at /content/drive\n"
          ]
        }
      ]
    },
    {
      "cell_type": "code",
      "source": [
        "image_path = '/content/drive/MyDrive/indianfood_convnet/Food Classification'\n",
        "class_names = os.listdir(image_path)\n",
        "num_class = len(class_names)"
      ],
      "metadata": {
        "id": "QJuvpljzFWw-"
      },
      "execution_count": 3,
      "outputs": []
    },
    {
      "cell_type": "code",
      "source": [
        "!pip install split-folders"
      ],
      "metadata": {
        "id": "F3iM-BotTTOk",
        "outputId": "8ef81f13-f8c3-4d6e-9972-4b9123dcb699",
        "colab": {
          "base_uri": "https://localhost:8080/"
        }
      },
      "execution_count": 4,
      "outputs": [
        {
          "output_type": "stream",
          "name": "stdout",
          "text": [
            "Collecting split-folders\n",
            "  Downloading split_folders-0.5.1-py3-none-any.whl (8.4 kB)\n",
            "Installing collected packages: split-folders\n",
            "Successfully installed split-folders-0.5.1\n"
          ]
        }
      ]
    },
    {
      "cell_type": "code",
      "source": [
        "import splitfolders\n",
        "\n",
        "# Split with a ratio\n",
        "splitfolders.ratio('/content/drive/MyDrive/indianfood_convnet/Food Classification', output=\"dataset\", seed=1337, ratio=(.8, .2), group_prefix=None)  # 80% training, 20% validation"
      ],
      "metadata": {
        "id": "vRPh4e_ZTNB9",
        "outputId": "127e8f55-6fc7-41e9-c6e8-654c5a009526",
        "colab": {
          "base_uri": "https://localhost:8080/"
        }
      },
      "execution_count": 6,
      "outputs": [
        {
          "output_type": "stream",
          "name": "stderr",
          "text": [
            "\n",
            "Copying files: 0 files [00:00, ? files/s]\u001b[A\n",
            "Copying files: 2 files [00:00,  4.94 files/s]\u001b[A\n",
            "Copying files: 3 files [00:00,  4.29 files/s]\u001b[A\n",
            "Copying files: 4 files [00:00,  4.05 files/s]\u001b[A\n",
            "Copying files: 5 files [00:01,  3.48 files/s]\u001b[A\n",
            "Copying files: 6 files [00:04,  1.36s/ files]\u001b[A\n",
            "Copying files: 27 files [00:04,  7.80 files/s]\u001b[A\n",
            "Copying files: 44 files [00:05, 15.25 files/s]\u001b[A\n",
            "Copying files: 56 files [00:05, 21.21 files/s]\u001b[A\n",
            "Copying files: 77 files [00:05, 36.05 files/s]\u001b[A\n",
            "Copying files: 100 files [00:05, 55.49 files/s]\u001b[A\n",
            "Copying files: 125 files [00:05, 79.95 files/s]\u001b[A\n",
            "Copying files: 144 files [00:05, 96.23 files/s]\u001b[A\n",
            "Copying files: 164 files [00:05, 113.84 files/s]\u001b[A\n",
            "Copying files: 183 files [00:05, 125.98 files/s]\u001b[A\n",
            "Copying files: 202 files [00:05, 133.00 files/s]\u001b[A\n",
            "Copying files: 223 files [00:06, 148.09 files/s]\u001b[A\n",
            "Copying files: 241 files [00:06, 146.44 files/s]\u001b[A\n",
            "Copying files: 258 files [00:06, 137.69 files/s]\u001b[A\n",
            "Copying files: 274 files [00:06, 67.31 files/s] \u001b[A\n",
            "Copying files: 289 files [00:06, 78.08 files/s]\u001b[A\n",
            "Copying files: 311 files [00:07, 101.20 files/s]\u001b[A\n",
            "Copying files: 334 files [00:07, 125.36 files/s]\u001b[A\n",
            "Copying files: 353 files [00:07, 139.04 files/s]\u001b[A\n",
            "Copying files: 374 files [00:07, 155.37 files/s]\u001b[A\n",
            "Copying files: 393 files [00:10, 17.96 files/s] \u001b[A\n",
            "Copying files: 407 files [00:11, 20.29 files/s]\u001b[A\n",
            "Copying files: 425 files [00:11, 27.61 files/s]\u001b[A\n",
            "Copying files: 445 files [00:11, 38.25 files/s]\u001b[A\n",
            "Copying files: 460 files [00:11, 47.23 files/s]\u001b[A\n",
            "Copying files: 475 files [00:11, 47.26 files/s]\u001b[A\n",
            "Copying files: 494 files [00:11, 62.59 files/s]\u001b[A\n",
            "Copying files: 511 files [00:11, 76.61 files/s]\u001b[A\n",
            "Copying files: 531 files [00:12, 92.60 files/s]\u001b[A\n",
            "Copying files: 547 files [00:12, 47.06 files/s]\u001b[A\n",
            "Copying files: 569 files [00:12, 64.81 files/s]\u001b[A\n",
            "Copying files: 589 files [00:13, 81.88 files/s]\u001b[A\n",
            "Copying files: 605 files [00:13, 90.89 files/s]\u001b[A\n",
            "Copying files: 621 files [00:14, 42.21 files/s]\u001b[A\n",
            "Copying files: 633 files [00:17, 11.58 files/s]\u001b[A\n",
            "Copying files: 645 files [00:17, 14.84 files/s]\u001b[A\n",
            "Copying files: 658 files [00:17, 19.60 files/s]\u001b[A\n",
            "Copying files: 680 files [00:18, 30.77 files/s]\u001b[A\n",
            "Copying files: 702 files [00:18, 44.68 files/s]\u001b[A\n",
            "Copying files: 725 files [00:18, 62.09 files/s]\u001b[A\n",
            "Copying files: 744 files [00:18, 77.07 files/s]\u001b[A\n",
            "Copying files: 767 files [00:18, 98.76 files/s]\u001b[A\n",
            "Copying files: 790 files [00:18, 120.65 files/s]\u001b[A\n",
            "Copying files: 811 files [00:18, 89.81 files/s] \u001b[A\n",
            "Copying files: 827 files [00:19, 99.00 files/s]\u001b[A\n",
            "Copying files: 848 files [00:19, 118.22 files/s]\u001b[A\n",
            "Copying files: 868 files [00:19, 130.89 files/s]\u001b[A\n",
            "Copying files: 886 files [00:19, 136.53 files/s]\u001b[A\n",
            "Copying files: 905 files [00:19, 148.63 files/s]\u001b[A\n",
            "Copying files: 927 files [00:19, 165.33 files/s]\u001b[A\n",
            "Copying files: 946 files [00:23, 14.26 files/s] \u001b[A\n",
            "Copying files: 960 files [00:24, 17.83 files/s]\u001b[A\n",
            "Copying files: 974 files [00:24, 22.77 files/s]\u001b[A\n",
            "Copying files: 989 files [00:24, 29.70 files/s]\u001b[A\n",
            "Copying files: 1010 files [00:24, 42.70 files/s]\u001b[A\n",
            "Copying files: 1026 files [00:24, 47.80 files/s]\u001b[A\n",
            "Copying files: 1039 files [00:24, 56.28 files/s]\u001b[A\n",
            "Copying files: 1052 files [00:25, 41.65 files/s]\u001b[A\n",
            "Copying files: 1065 files [00:25, 50.92 files/s]\u001b[A\n",
            "Copying files: 1085 files [00:25, 70.34 files/s]\u001b[A\n",
            "Copying files: 1099 files [00:25, 80.01 files/s]\u001b[A\n",
            "Copying files: 1115 files [00:25, 91.74 files/s]\u001b[A\n",
            "Copying files: 1134 files [00:26, 52.86 files/s]\u001b[A\n",
            "Copying files: 1154 files [00:26, 70.18 files/s]\u001b[A\n",
            "Copying files: 1167 files [00:26, 78.87 files/s]\u001b[A\n",
            "Copying files: 1184 files [00:26, 94.19 files/s]\u001b[A\n",
            "Copying files: 1200 files [00:26, 69.39 files/s]\u001b[A\n",
            "Copying files: 1215 files [00:27, 81.36 files/s]\u001b[A\n",
            "Copying files: 1228 files [00:27, 54.80 files/s]\u001b[A\n",
            "Copying files: 1238 files [00:32,  8.57 files/s]\u001b[A\n",
            "Copying files: 1255 files [00:32, 12.81 files/s]\u001b[A\n",
            "Copying files: 1271 files [00:32, 18.14 files/s]\u001b[A\n",
            "Copying files: 1283 files [00:32, 18.52 files/s]\u001b[A\n",
            "Copying files: 1298 files [00:33, 25.51 files/s]\u001b[A\n",
            "Copying files: 1315 files [00:33, 35.72 files/s]\u001b[A\n",
            "Copying files: 1333 files [00:33, 48.85 files/s]\u001b[A\n",
            "Copying files: 1347 files [00:33, 59.06 files/s]\u001b[A\n",
            "Copying files: 1366 files [00:33, 77.38 files/s]\u001b[A\n",
            "Copying files: 1385 files [00:33, 95.92 files/s]\u001b[A\n",
            "Copying files: 1402 files [00:33, 108.62 files/s]\u001b[A\n",
            "Copying files: 1421 files [00:33, 119.70 files/s]\u001b[A\n",
            "Copying files: 1438 files [00:33, 130.69 files/s]\u001b[A\n",
            "Copying files: 1457 files [00:34, 143.66 files/s]\u001b[A\n",
            "Copying files: 1474 files [00:34, 144.71 files/s]\u001b[A\n",
            "Copying files: 1491 files [00:34, 143.41 files/s]\u001b[A\n",
            "Copying files: 1511 files [00:34, 157.65 files/s]\u001b[A\n",
            "Copying files: 1534 files [00:34, 176.62 files/s]\u001b[A\n",
            "Copying files: 1553 files [00:34, 179.79 files/s]\u001b[A\n",
            "Copying files: 1572 files [00:34, 175.87 files/s]\u001b[A\n",
            "Copying files: 1591 files [00:38, 17.15 files/s] \u001b[A\n",
            "Copying files: 1604 files [00:42,  8.47 files/s]\u001b[A\n",
            "Copying files: 1614 files [00:45,  6.40 files/s]\u001b[A\n",
            "Copying files: 1621 files [00:47,  5.55 files/s]\u001b[A\n",
            "Copying files: 1626 files [00:49,  4.78 files/s]\u001b[A\n",
            "Copying files: 1630 files [00:50,  4.32 files/s]\u001b[A\n",
            "Copying files: 1633 files [00:51,  4.20 files/s]\u001b[A\n",
            "Copying files: 1635 files [00:52,  3.97 files/s]\u001b[A\n",
            "Copying files: 1637 files [00:53,  3.89 files/s]\u001b[A\n",
            "Copying files: 1639 files [00:53,  3.69 files/s]\u001b[A\n",
            "Copying files: 1640 files [00:54,  3.62 files/s]\u001b[A\n",
            "Copying files: 1641 files [00:54,  3.66 files/s]\u001b[A\n",
            "Copying files: 1642 files [00:54,  3.73 files/s]\u001b[A\n",
            "Copying files: 1643 files [00:54,  3.77 files/s]\u001b[A\n",
            "Copying files: 1644 files [00:55,  2.93 files/s]\u001b[A\n",
            "Copying files: 1645 files [00:55,  3.09 files/s]\u001b[A\n",
            "Copying files: 1646 files [00:56,  3.20 files/s]\u001b[A\n",
            "Copying files: 1647 files [00:56,  3.11 files/s]\u001b[A\n",
            "Copying files: 1648 files [00:57,  2.36 files/s]\u001b[A\n",
            "Copying files: 1649 files [00:57,  2.55 files/s]\u001b[A\n",
            "Copying files: 1650 files [00:57,  2.81 files/s]\u001b[A\n",
            "Copying files: 1651 files [00:57,  3.09 files/s]\u001b[A\n",
            "Copying files: 1652 files [00:58, 28.03 files/s]\n"
          ]
        }
      ]
    },
    {
      "cell_type": "code",
      "source": [
        "train_path = '/content/dataset/train'\n",
        "validation_path = '/content/dataset/val'"
      ],
      "metadata": {
        "id": "_m-NcIZDUM6e"
      },
      "execution_count": 7,
      "outputs": []
    },
    {
      "cell_type": "code",
      "source": [
        "class_names"
      ],
      "metadata": {
        "colab": {
          "base_uri": "https://localhost:8080/"
        },
        "id": "hyi-y-vjFpk9",
        "outputId": "f67da2c2-7c95-4aa6-81ee-e5f1cfd6a411"
      },
      "execution_count": 8,
      "outputs": [
        {
          "output_type": "execute_result",
          "data": {
            "text/plain": [
              "['chai', 'kulfi', 'momos', 'dhokla', 'pav_bhaji', 'butter_naan']"
            ]
          },
          "metadata": {},
          "execution_count": 8
        }
      ]
    },
    {
      "cell_type": "code",
      "source": [
        "train_datagen = ImageDataGenerator(rescale = 1/255.,\n",
        "                                   rotation_range =40,\n",
        "                                   width_shift_range = 0.2,\n",
        "                                   height_shift_range = 0.2,\n",
        "                                   shear_range = 0.2,\n",
        "                                   zoom_range = 0.2,\n",
        "                                   horizontal_flip = True,\n",
        "                                   validation_split=0.2)\n",
        "\n",
        "val_datagen = ImageDataGenerator(\n",
        "    rescale=1./255  # Rescale pixel values from [0, 255] to [0, 1]\n",
        ")"
      ],
      "metadata": {
        "id": "FerJYAGoFtia"
      },
      "execution_count": 9,
      "outputs": []
    },
    {
      "cell_type": "code",
      "source": [
        "train_generator = train_datagen.flow_from_directory(train_path, batch_size = 32, class_mode = 'categorical',\n",
        "                                                    target_size = (224, 224), subset='training',\n",
        "                                                    shuffle = None)"
      ],
      "metadata": {
        "colab": {
          "base_uri": "https://localhost:8080/"
        },
        "id": "69NbWkEFGIOv",
        "outputId": "18806474-e64f-4547-8f11-4e756d56ab6c"
      },
      "execution_count": 10,
      "outputs": [
        {
          "output_type": "stream",
          "name": "stdout",
          "text": [
            "Found 1057 images belonging to 6 classes.\n"
          ]
        }
      ]
    },
    {
      "cell_type": "code",
      "source": [
        "validation_generator = val_datagen.flow_from_directory(validation_path, batch_size = 32, class_mode = 'categorical',\n",
        "                                                    target_size = (224, 224), subset='training',\n",
        "                                                    shuffle = None)"
      ],
      "metadata": {
        "colab": {
          "base_uri": "https://localhost:8080/"
        },
        "id": "3aVbcemGGiQM",
        "outputId": "26b6f251-a79f-40b9-beea-038540d1288b"
      },
      "execution_count": 11,
      "outputs": [
        {
          "output_type": "stream",
          "name": "stdout",
          "text": [
            "Found 333 images belonging to 6 classes.\n"
          ]
        }
      ]
    },
    {
      "cell_type": "code",
      "source": [
        "true_class = validation_generator.classes\n",
        "\n",
        "true_class"
      ],
      "metadata": {
        "colab": {
          "base_uri": "https://localhost:8080/"
        },
        "id": "lxIoiLTMHWL3",
        "outputId": "19d86d00-2316-41d0-ebf6-9f2a6acab4d1"
      },
      "execution_count": 12,
      "outputs": [
        {
          "output_type": "execute_result",
          "data": {
            "text/plain": [
              "array([0, 0, 0, 0, 0, 0, 0, 0, 0, 0, 0, 0, 0, 0, 0, 1, 1, 1, 1, 1, 1, 1,\n",
              "       1, 1, 1, 1, 1, 1, 1, 1, 1, 1, 1, 1, 1, 1, 1, 1, 1, 1, 1, 1, 1, 1,\n",
              "       1, 1, 1, 1, 1, 1, 1, 1, 1, 1, 1, 1, 1, 1, 1, 1, 1, 1, 1, 1, 1, 1,\n",
              "       1, 1, 1, 1, 1, 1, 1, 1, 1, 1, 1, 1, 1, 1, 1, 1, 1, 1, 1, 1, 1, 1,\n",
              "       1, 1, 1, 1, 2, 2, 2, 2, 2, 2, 2, 2, 2, 2, 2, 2, 2, 2, 2, 2, 2, 2,\n",
              "       2, 2, 2, 2, 2, 2, 2, 2, 2, 2, 2, 2, 2, 2, 2, 2, 2, 2, 2, 2, 2, 2,\n",
              "       2, 2, 2, 2, 2, 2, 2, 2, 2, 2, 2, 2, 2, 2, 2, 2, 2, 2, 3, 3, 3, 3,\n",
              "       3, 3, 3, 3, 3, 3, 3, 3, 3, 3, 3, 3, 3, 3, 3, 3, 3, 3, 3, 3, 3, 3,\n",
              "       3, 3, 3, 3, 3, 3, 3, 3, 3, 3, 3, 3, 3, 3, 3, 3, 3, 3, 3, 3, 3, 3,\n",
              "       4, 4, 4, 4, 4, 4, 4, 4, 4, 4, 4, 4, 4, 4, 4, 4, 4, 4, 4, 4, 4, 4,\n",
              "       4, 4, 4, 4, 4, 4, 4, 4, 4, 4, 4, 4, 4, 4, 4, 4, 4, 4, 4, 4, 4, 4,\n",
              "       4, 4, 4, 4, 4, 4, 4, 4, 4, 4, 4, 4, 4, 4, 4, 4, 4, 4, 4, 4, 5, 5,\n",
              "       5, 5, 5, 5, 5, 5, 5, 5, 5, 5, 5, 5, 5, 5, 5, 5, 5, 5, 5, 5, 5, 5,\n",
              "       5, 5, 5, 5, 5, 5, 5, 5, 5, 5, 5, 5, 5, 5, 5, 5, 5, 5, 5, 5, 5, 5,\n",
              "       5, 5, 5, 5, 5, 5, 5, 5, 5, 5, 5, 5, 5, 5, 5, 5, 5, 5, 5, 5, 5, 5,\n",
              "       5, 5, 5], dtype=int32)"
            ]
          },
          "metadata": {},
          "execution_count": 12
        }
      ]
    },
    {
      "cell_type": "markdown",
      "source": [
        "## Arsitektur InceptionV3"
      ],
      "metadata": {
        "id": "gYiWCKucHf2V"
      }
    },
    {
      "cell_type": "code",
      "source": [
        "from tensorflow.keras.applications.inception_v3 import InceptionV3\n",
        "\n",
        "pre_trained_model = InceptionV3(input_shape = (224, 224, 3), include_top = False, weights = 'imagenet')\n",
        "\n",
        "\n",
        "for layer in pre_trained_model.layers:\n",
        "  layer.trainable = False"
      ],
      "metadata": {
        "id": "kTaIz1KOHbf9"
      },
      "execution_count": 29,
      "outputs": []
    },
    {
      "cell_type": "code",
      "source": [
        "# Versi 1\n",
        "last_layer = pre_trained_model.get_layer('mixed7')\n",
        "last_output = last_layer.output\n",
        "x = layers.Flatten()(last_output)\n",
        "x = layers.Dense(1024, activation = 'relu')(x)\n",
        "x = layers.Dropout(0.2)(x)\n",
        "x = layers.Dense(num_class, activation = 'softmax')(x)\n",
        "model = Model(pre_trained_model.input, x)\n",
        "\n",
        "model.compile(optimizer = Adam(), loss = 'categorical_crossentropy', metrics = ['accuracy'])"
      ],
      "metadata": {
        "id": "txbKJmxrIzQ3"
      },
      "execution_count": 30,
      "outputs": []
    },
    {
      "cell_type": "code",
      "source": [
        "epochs = 5\n",
        "history = model.fit(train_generator,\n",
        "                    epochs  = epochs,\n",
        "                    steps_per_epoch = len(train_generator),\n",
        "                    validation_data = validation_generator,\n",
        "                    validation_steps = len(validation_generator))"
      ],
      "metadata": {
        "colab": {
          "base_uri": "https://localhost:8080/"
        },
        "id": "ax9poM-CKRvS",
        "outputId": "67ead88b-c23c-4ac9-d244-c00335a8629b"
      },
      "execution_count": null,
      "outputs": [
        {
          "output_type": "stream",
          "name": "stdout",
          "text": [
            "Epoch 1/5\n",
            "14/34 [===========>..................] - ETA: 2:42 - loss: 58.7603 - accuracy: 0.2210"
          ]
        }
      ]
    },
    {
      "cell_type": "code",
      "source": [],
      "metadata": {
        "id": "NhCNiI8pU4jF"
      },
      "execution_count": null,
      "outputs": []
    },
    {
      "cell_type": "code",
      "source": [
        "#Prediksi\n",
        "\n",
        "pred = model.predict(validation_generator)\n",
        "predicted_class = pred.argmax(axis=1)\n",
        "predicted_class\n",
        "\n",
        "\n",
        "# True Class\n",
        "true_class = validation_generator.classes\n",
        "true_class"
      ],
      "metadata": {
        "id": "ImUiKUGFKjwh",
        "colab": {
          "base_uri": "https://localhost:8080/"
        },
        "outputId": "2a35edd7-051e-4946-a9e7-090403cb4153"
      },
      "execution_count": 17,
      "outputs": [
        {
          "output_type": "stream",
          "name": "stdout",
          "text": [
            "11/11 [==============================] - 40s 3s/step\n"
          ]
        },
        {
          "output_type": "execute_result",
          "data": {
            "text/plain": [
              "array([0, 0, 0, 0, 0, 0, 0, 0, 0, 0, 0, 0, 0, 0, 0, 1, 1, 1, 1, 1, 1, 1,\n",
              "       1, 1, 1, 1, 1, 1, 1, 1, 1, 1, 1, 1, 1, 1, 1, 1, 1, 1, 1, 1, 1, 1,\n",
              "       1, 1, 1, 1, 1, 1, 1, 1, 1, 1, 1, 1, 1, 1, 1, 1, 1, 1, 1, 1, 1, 1,\n",
              "       1, 1, 1, 1, 1, 1, 1, 1, 1, 1, 1, 1, 1, 1, 1, 1, 1, 1, 1, 1, 1, 1,\n",
              "       1, 1, 1, 1, 2, 2, 2, 2, 2, 2, 2, 2, 2, 2, 2, 2, 2, 2, 2, 2, 2, 2,\n",
              "       2, 2, 2, 2, 2, 2, 2, 2, 2, 2, 2, 2, 2, 2, 2, 2, 2, 2, 2, 2, 2, 2,\n",
              "       2, 2, 2, 2, 2, 2, 2, 2, 2, 2, 2, 2, 2, 2, 2, 2, 2, 2, 3, 3, 3, 3,\n",
              "       3, 3, 3, 3, 3, 3, 3, 3, 3, 3, 3, 3, 3, 3, 3, 3, 3, 3, 3, 3, 3, 3,\n",
              "       3, 3, 3, 3, 3, 3, 3, 3, 3, 3, 3, 3, 3, 3, 3, 3, 3, 3, 3, 3, 3, 3,\n",
              "       4, 4, 4, 4, 4, 4, 4, 4, 4, 4, 4, 4, 4, 4, 4, 4, 4, 4, 4, 4, 4, 4,\n",
              "       4, 4, 4, 4, 4, 4, 4, 4, 4, 4, 4, 4, 4, 4, 4, 4, 4, 4, 4, 4, 4, 4,\n",
              "       4, 4, 4, 4, 4, 4, 4, 4, 4, 4, 4, 4, 4, 4, 4, 4, 4, 4, 4, 4, 5, 5,\n",
              "       5, 5, 5, 5, 5, 5, 5, 5, 5, 5, 5, 5, 5, 5, 5, 5, 5, 5, 5, 5, 5, 5,\n",
              "       5, 5, 5, 5, 5, 5, 5, 5, 5, 5, 5, 5, 5, 5, 5, 5, 5, 5, 5, 5, 5, 5,\n",
              "       5, 5, 5, 5, 5, 5, 5, 5, 5, 5, 5, 5, 5, 5, 5, 5, 5, 5, 5, 5, 5, 5,\n",
              "       5, 5, 5], dtype=int32)"
            ]
          },
          "metadata": {},
          "execution_count": 17
        }
      ]
    },
    {
      "cell_type": "code",
      "source": [
        "# Evaluasi\n",
        "from sklearn.metrics import classification_report\n",
        "print(classification_report(true_class, predicted_class))"
      ],
      "metadata": {
        "id": "Ex8PjsEZLB_Y",
        "colab": {
          "base_uri": "https://localhost:8080/"
        },
        "outputId": "c19a2f56-fba2-44fe-f4f2-b3e29a413187"
      },
      "execution_count": 18,
      "outputs": [
        {
          "output_type": "stream",
          "name": "stdout",
          "text": [
            "              precision    recall  f1-score   support\n",
            "\n",
            "           0       0.00      0.00      0.00        15\n",
            "           1       0.35      1.00      0.52        77\n",
            "           2       0.30      0.55      0.39        58\n",
            "           3       0.00      0.00      0.00        48\n",
            "           4       1.00      0.11      0.20        64\n",
            "           5       0.00      0.00      0.00        71\n",
            "\n",
            "    accuracy                           0.35       333\n",
            "   macro avg       0.28      0.28      0.18       333\n",
            "weighted avg       0.33      0.35      0.23       333\n",
            "\n"
          ]
        },
        {
          "output_type": "stream",
          "name": "stderr",
          "text": [
            "/usr/local/lib/python3.10/dist-packages/sklearn/metrics/_classification.py:1344: UndefinedMetricWarning: Precision and F-score are ill-defined and being set to 0.0 in labels with no predicted samples. Use `zero_division` parameter to control this behavior.\n",
            "  _warn_prf(average, modifier, msg_start, len(result))\n",
            "/usr/local/lib/python3.10/dist-packages/sklearn/metrics/_classification.py:1344: UndefinedMetricWarning: Precision and F-score are ill-defined and being set to 0.0 in labels with no predicted samples. Use `zero_division` parameter to control this behavior.\n",
            "  _warn_prf(average, modifier, msg_start, len(result))\n",
            "/usr/local/lib/python3.10/dist-packages/sklearn/metrics/_classification.py:1344: UndefinedMetricWarning: Precision and F-score are ill-defined and being set to 0.0 in labels with no predicted samples. Use `zero_division` parameter to control this behavior.\n",
            "  _warn_prf(average, modifier, msg_start, len(result))\n"
          ]
        }
      ]
    },
    {
      "cell_type": "code",
      "source": [
        "history.history"
      ],
      "metadata": {
        "colab": {
          "base_uri": "https://localhost:8080/"
        },
        "id": "6_o0wKXAfwnS",
        "outputId": "716a03af-fe18-43f1-b8bc-691e0b5317bb"
      },
      "execution_count": 27,
      "outputs": [
        {
          "output_type": "execute_result",
          "data": {
            "text/plain": [
              "{'loss': [57.576725006103516],\n",
              " 'accuracy': [0.3103122115135193],\n",
              " 'val_loss': [1.3907421827316284],\n",
              " 'val_accuracy': [0.3543543517589569]}"
            ]
          },
          "metadata": {},
          "execution_count": 27
        }
      ]
    },
    {
      "cell_type": "code",
      "source": [
        "import matplotlib.pyplot as plt\n",
        "\n",
        "SMALL_SIZE = 12\n",
        "MEDIUM_SIZE = 13\n",
        "BIGGER_SIZE = 16\n",
        "\n",
        "plt.rc('font', size=BIGGER_SIZE)\n",
        "plt.rc('axes', titlesize=14)\n",
        "plt.rc('axes', labelsize=14)\n",
        "plt.rc('xtick', labelsize=MEDIUM_SIZE)\n",
        "plt.rc('ytick', labelsize=MEDIUM_SIZE)\n",
        "plt.rc('legend', fontsize=MEDIUM_SIZE)\n",
        "plt.rc('figure', titlesize=BIGGER_SIZE)\n",
        "\n",
        "acc = history.history['accuracy']\n",
        "val_acc = history.history['val_accuracy']\n",
        "\n",
        "loss = history.history['loss']\n",
        "val_loss = history.history['val_loss']\n",
        "\n",
        "epochs_range = range(10)\n",
        "\n",
        "plt.figure(figsize=(10, 10))\n",
        "plt.subplot(2, 1, 1)\n",
        "plt.plot(epochs_range, acc, color='red', label='Training Accuracy')\n",
        "plt.plot(epochs_range, val_acc, color='blue', label='Validation Accuracy')\n",
        "plt.ylabel('Accuracy')\n",
        "plt.xlabel('Epoch')\n",
        "plt.axis([0, 50, 0, 1])\n",
        "plt.legend(loc='lower right')\n",
        "\n",
        "plt.title('Accuracy Inception V3')\n",
        "\n",
        "plt.subplot(2, 1, 2)\n",
        "plt.plot(epochs_range, loss, color='red', label='Training Loss')\n",
        "plt.plot(epochs_range, val_loss, color='blue', label='Validation Loss')\n",
        "plt.legend(loc='upper right')\n",
        "plt.axis([0, 50, 0, 5])\n",
        "plt.ylabel('Loss')\n",
        "plt.xlabe('Epoch')\n",
        "plt.title('Loss InceptionV3')\n",
        "plt.tight_layout(pad=1.0, w_pad=1.0, h_pad=1.0)\n",
        "plt.show()"
      ],
      "metadata": {
        "id": "B3c5lMc2U6Kv",
        "colab": {
          "base_uri": "https://localhost:8080/",
          "height": 760
        },
        "outputId": "ab1017ff-ed4c-42c7-cda8-66b2e9fc9892"
      },
      "execution_count": 26,
      "outputs": [
        {
          "output_type": "error",
          "ename": "ValueError",
          "evalue": "x and y must have same first dimension, but have shapes (10,) and (1,)",
          "traceback": [
            "\u001b[0;31m---------------------------------------------------------------------------\u001b[0m",
            "\u001b[0;31mValueError\u001b[0m                                Traceback (most recent call last)",
            "\u001b[0;32m<ipython-input-26-c5f7a5564c96>\u001b[0m in \u001b[0;36m<cell line: 25>\u001b[0;34m()\u001b[0m\n\u001b[1;32m     23\u001b[0m \u001b[0mplt\u001b[0m\u001b[0;34m.\u001b[0m\u001b[0mfigure\u001b[0m\u001b[0;34m(\u001b[0m\u001b[0mfigsize\u001b[0m\u001b[0;34m=\u001b[0m\u001b[0;34m(\u001b[0m\u001b[0;36m10\u001b[0m\u001b[0;34m,\u001b[0m \u001b[0;36m10\u001b[0m\u001b[0;34m)\u001b[0m\u001b[0;34m)\u001b[0m\u001b[0;34m\u001b[0m\u001b[0;34m\u001b[0m\u001b[0m\n\u001b[1;32m     24\u001b[0m \u001b[0mplt\u001b[0m\u001b[0;34m.\u001b[0m\u001b[0msubplot\u001b[0m\u001b[0;34m(\u001b[0m\u001b[0;36m2\u001b[0m\u001b[0;34m,\u001b[0m \u001b[0;36m1\u001b[0m\u001b[0;34m,\u001b[0m \u001b[0;36m1\u001b[0m\u001b[0;34m)\u001b[0m\u001b[0;34m\u001b[0m\u001b[0;34m\u001b[0m\u001b[0m\n\u001b[0;32m---> 25\u001b[0;31m \u001b[0mplt\u001b[0m\u001b[0;34m.\u001b[0m\u001b[0mplot\u001b[0m\u001b[0;34m(\u001b[0m\u001b[0mepochs_range\u001b[0m\u001b[0;34m,\u001b[0m \u001b[0macc\u001b[0m\u001b[0;34m,\u001b[0m \u001b[0mcolor\u001b[0m\u001b[0;34m=\u001b[0m\u001b[0;34m'red'\u001b[0m\u001b[0;34m,\u001b[0m \u001b[0mlabel\u001b[0m\u001b[0;34m=\u001b[0m\u001b[0;34m'Training Accuracy'\u001b[0m\u001b[0;34m)\u001b[0m\u001b[0;34m\u001b[0m\u001b[0;34m\u001b[0m\u001b[0m\n\u001b[0m\u001b[1;32m     26\u001b[0m \u001b[0mplt\u001b[0m\u001b[0;34m.\u001b[0m\u001b[0mplot\u001b[0m\u001b[0;34m(\u001b[0m\u001b[0mepochs_range\u001b[0m\u001b[0;34m,\u001b[0m \u001b[0mval_acc\u001b[0m\u001b[0;34m,\u001b[0m \u001b[0mcolor\u001b[0m\u001b[0;34m=\u001b[0m\u001b[0;34m'blue'\u001b[0m\u001b[0;34m,\u001b[0m \u001b[0mlabel\u001b[0m\u001b[0;34m=\u001b[0m\u001b[0;34m'Validation Accuracy'\u001b[0m\u001b[0;34m)\u001b[0m\u001b[0;34m\u001b[0m\u001b[0;34m\u001b[0m\u001b[0m\n\u001b[1;32m     27\u001b[0m \u001b[0mplt\u001b[0m\u001b[0;34m.\u001b[0m\u001b[0mylabel\u001b[0m\u001b[0;34m(\u001b[0m\u001b[0;34m'Accuracy'\u001b[0m\u001b[0;34m)\u001b[0m\u001b[0;34m\u001b[0m\u001b[0;34m\u001b[0m\u001b[0m\n",
            "\u001b[0;32m/usr/local/lib/python3.10/dist-packages/matplotlib/pyplot.py\u001b[0m in \u001b[0;36mplot\u001b[0;34m(scalex, scaley, data, *args, **kwargs)\u001b[0m\n\u001b[1;32m   2810\u001b[0m \u001b[0;34m@\u001b[0m\u001b[0m_copy_docstring_and_deprecators\u001b[0m\u001b[0;34m(\u001b[0m\u001b[0mAxes\u001b[0m\u001b[0;34m.\u001b[0m\u001b[0mplot\u001b[0m\u001b[0;34m)\u001b[0m\u001b[0;34m\u001b[0m\u001b[0;34m\u001b[0m\u001b[0m\n\u001b[1;32m   2811\u001b[0m \u001b[0;32mdef\u001b[0m \u001b[0mplot\u001b[0m\u001b[0;34m(\u001b[0m\u001b[0;34m*\u001b[0m\u001b[0margs\u001b[0m\u001b[0;34m,\u001b[0m \u001b[0mscalex\u001b[0m\u001b[0;34m=\u001b[0m\u001b[0;32mTrue\u001b[0m\u001b[0;34m,\u001b[0m \u001b[0mscaley\u001b[0m\u001b[0;34m=\u001b[0m\u001b[0;32mTrue\u001b[0m\u001b[0;34m,\u001b[0m \u001b[0mdata\u001b[0m\u001b[0;34m=\u001b[0m\u001b[0;32mNone\u001b[0m\u001b[0;34m,\u001b[0m \u001b[0;34m**\u001b[0m\u001b[0mkwargs\u001b[0m\u001b[0;34m)\u001b[0m\u001b[0;34m:\u001b[0m\u001b[0;34m\u001b[0m\u001b[0;34m\u001b[0m\u001b[0m\n\u001b[0;32m-> 2812\u001b[0;31m     return gca().plot(\n\u001b[0m\u001b[1;32m   2813\u001b[0m         \u001b[0;34m*\u001b[0m\u001b[0margs\u001b[0m\u001b[0;34m,\u001b[0m \u001b[0mscalex\u001b[0m\u001b[0;34m=\u001b[0m\u001b[0mscalex\u001b[0m\u001b[0;34m,\u001b[0m \u001b[0mscaley\u001b[0m\u001b[0;34m=\u001b[0m\u001b[0mscaley\u001b[0m\u001b[0;34m,\u001b[0m\u001b[0;34m\u001b[0m\u001b[0;34m\u001b[0m\u001b[0m\n\u001b[1;32m   2814\u001b[0m         **({\"data\": data} if data is not None else {}), **kwargs)\n",
            "\u001b[0;32m/usr/local/lib/python3.10/dist-packages/matplotlib/axes/_axes.py\u001b[0m in \u001b[0;36mplot\u001b[0;34m(self, scalex, scaley, data, *args, **kwargs)\u001b[0m\n\u001b[1;32m   1686\u001b[0m         \"\"\"\n\u001b[1;32m   1687\u001b[0m         \u001b[0mkwargs\u001b[0m \u001b[0;34m=\u001b[0m \u001b[0mcbook\u001b[0m\u001b[0;34m.\u001b[0m\u001b[0mnormalize_kwargs\u001b[0m\u001b[0;34m(\u001b[0m\u001b[0mkwargs\u001b[0m\u001b[0;34m,\u001b[0m \u001b[0mmlines\u001b[0m\u001b[0;34m.\u001b[0m\u001b[0mLine2D\u001b[0m\u001b[0;34m)\u001b[0m\u001b[0;34m\u001b[0m\u001b[0;34m\u001b[0m\u001b[0m\n\u001b[0;32m-> 1688\u001b[0;31m         \u001b[0mlines\u001b[0m \u001b[0;34m=\u001b[0m \u001b[0;34m[\u001b[0m\u001b[0;34m*\u001b[0m\u001b[0mself\u001b[0m\u001b[0;34m.\u001b[0m\u001b[0m_get_lines\u001b[0m\u001b[0;34m(\u001b[0m\u001b[0;34m*\u001b[0m\u001b[0margs\u001b[0m\u001b[0;34m,\u001b[0m \u001b[0mdata\u001b[0m\u001b[0;34m=\u001b[0m\u001b[0mdata\u001b[0m\u001b[0;34m,\u001b[0m \u001b[0;34m**\u001b[0m\u001b[0mkwargs\u001b[0m\u001b[0;34m)\u001b[0m\u001b[0;34m]\u001b[0m\u001b[0;34m\u001b[0m\u001b[0;34m\u001b[0m\u001b[0m\n\u001b[0m\u001b[1;32m   1689\u001b[0m         \u001b[0;32mfor\u001b[0m \u001b[0mline\u001b[0m \u001b[0;32min\u001b[0m \u001b[0mlines\u001b[0m\u001b[0;34m:\u001b[0m\u001b[0;34m\u001b[0m\u001b[0;34m\u001b[0m\u001b[0m\n\u001b[1;32m   1690\u001b[0m             \u001b[0mself\u001b[0m\u001b[0;34m.\u001b[0m\u001b[0madd_line\u001b[0m\u001b[0;34m(\u001b[0m\u001b[0mline\u001b[0m\u001b[0;34m)\u001b[0m\u001b[0;34m\u001b[0m\u001b[0;34m\u001b[0m\u001b[0m\n",
            "\u001b[0;32m/usr/local/lib/python3.10/dist-packages/matplotlib/axes/_base.py\u001b[0m in \u001b[0;36m__call__\u001b[0;34m(self, data, *args, **kwargs)\u001b[0m\n\u001b[1;32m    309\u001b[0m                 \u001b[0mthis\u001b[0m \u001b[0;34m+=\u001b[0m \u001b[0margs\u001b[0m\u001b[0;34m[\u001b[0m\u001b[0;36m0\u001b[0m\u001b[0;34m]\u001b[0m\u001b[0;34m,\u001b[0m\u001b[0;34m\u001b[0m\u001b[0;34m\u001b[0m\u001b[0m\n\u001b[1;32m    310\u001b[0m                 \u001b[0margs\u001b[0m \u001b[0;34m=\u001b[0m \u001b[0margs\u001b[0m\u001b[0;34m[\u001b[0m\u001b[0;36m1\u001b[0m\u001b[0;34m:\u001b[0m\u001b[0;34m]\u001b[0m\u001b[0;34m\u001b[0m\u001b[0;34m\u001b[0m\u001b[0m\n\u001b[0;32m--> 311\u001b[0;31m             yield from self._plot_args(\n\u001b[0m\u001b[1;32m    312\u001b[0m                 this, kwargs, ambiguous_fmt_datakey=ambiguous_fmt_datakey)\n\u001b[1;32m    313\u001b[0m \u001b[0;34m\u001b[0m\u001b[0m\n",
            "\u001b[0;32m/usr/local/lib/python3.10/dist-packages/matplotlib/axes/_base.py\u001b[0m in \u001b[0;36m_plot_args\u001b[0;34m(self, tup, kwargs, return_kwargs, ambiguous_fmt_datakey)\u001b[0m\n\u001b[1;32m    502\u001b[0m \u001b[0;34m\u001b[0m\u001b[0m\n\u001b[1;32m    503\u001b[0m         \u001b[0;32mif\u001b[0m \u001b[0mx\u001b[0m\u001b[0;34m.\u001b[0m\u001b[0mshape\u001b[0m\u001b[0;34m[\u001b[0m\u001b[0;36m0\u001b[0m\u001b[0;34m]\u001b[0m \u001b[0;34m!=\u001b[0m \u001b[0my\u001b[0m\u001b[0;34m.\u001b[0m\u001b[0mshape\u001b[0m\u001b[0;34m[\u001b[0m\u001b[0;36m0\u001b[0m\u001b[0;34m]\u001b[0m\u001b[0;34m:\u001b[0m\u001b[0;34m\u001b[0m\u001b[0;34m\u001b[0m\u001b[0m\n\u001b[0;32m--> 504\u001b[0;31m             raise ValueError(f\"x and y must have same first dimension, but \"\n\u001b[0m\u001b[1;32m    505\u001b[0m                              f\"have shapes {x.shape} and {y.shape}\")\n\u001b[1;32m    506\u001b[0m         \u001b[0;32mif\u001b[0m \u001b[0mx\u001b[0m\u001b[0;34m.\u001b[0m\u001b[0mndim\u001b[0m \u001b[0;34m>\u001b[0m \u001b[0;36m2\u001b[0m \u001b[0;32mor\u001b[0m \u001b[0my\u001b[0m\u001b[0;34m.\u001b[0m\u001b[0mndim\u001b[0m \u001b[0;34m>\u001b[0m \u001b[0;36m2\u001b[0m\u001b[0;34m:\u001b[0m\u001b[0;34m\u001b[0m\u001b[0;34m\u001b[0m\u001b[0m\n",
            "\u001b[0;31mValueError\u001b[0m: x and y must have same first dimension, but have shapes (10,) and (1,)"
          ]
        },
        {
          "output_type": "display_data",
          "data": {
            "text/plain": [
              "<Figure size 1000x1000 with 1 Axes>"
            ],
            "image/png": "[encoded data removed]"
          },
          "metadata": {}
        }
      ]
    },
    {
      "cell_type": "code",
      "source": [
        "import matplotlib.pyplot as plt\n",
        "\n",
        "# Set font sizes for the plots\n",
        "SMALL_SIZE = 12\n",
        "MEDIUM_SIZE = 13\n",
        "BIGGER_SIZE = 16\n",
        "\n",
        "plt.rc('font', size=BIGGER_SIZE)\n",
        "plt.rc('axes', titlesize=14)\n",
        "plt.rc('axes', labelsize=14)\n",
        "plt.rc('xtick', labelsize=MEDIUM_SIZE)\n",
        "plt.rc('ytick', labelsize=MEDIUM_SIZE)\n",
        "plt.rc('legend', fontsize=MEDIUM_SIZE)\n",
        "plt.rc('figure', titlesize=BIGGER_SIZE)\n",
        "\n",
        "# Ensure history is available\n",
        "if 'history' in locals():\n",
        "    acc = history.history['accuracy']\n",
        "    val_acc = history.history['val_accuracy']\n",
        "    loss = history.history['loss']\n",
        "    val_loss = history.history['val_loss']\n",
        "\n",
        "    # Define epochs_range based on the length of acc (or any of the history lists)\n",
        "    epochs = len(acc)\n",
        "    epochs_range = range(epochs)\n",
        "\n",
        "    plt.figure(figsize=(10, 10))\n",
        "\n",
        "    # Plot Training and Validation Accuracy\n",
        "    plt.subplot(2, 1, 1)\n",
        "    plt.plot(epochs_range, acc, color='red', label='Training Accuracy')\n",
        "    plt.plot(epochs_range, val_acc, color='blue', label='Validation Accuracy')\n",
        "    plt.ylabel('Accuracy')\n",
        "    plt.xlabel('Epoch')\n",
        "    plt.axis([0, epochs, 0, 1])\n",
        "    plt.legend(loc='lower right')\n",
        "    plt.title('Accuracy Inception V3')\n",
        "\n",
        "    # Plot Training and Validation Loss\n",
        "    plt.subplot(2, 1, 2)\n",
        "    plt.plot(epochs_range, loss, color='red', label='Training Loss')\n",
        "    plt.plot(epochs_range, val_loss, color='blue', label='Validation Loss')\n",
        "    plt.legend(loc='upper right')\n",
        "    plt.axis([0, epochs, 0, 5])\n",
        "    plt.ylabel('Loss')\n",
        "    plt.xlabel('Epoch')  # Fixed typo here\n",
        "    plt.title('Loss Inception V3')\n",
        "\n",
        "    plt.tight_layout(pad=1.0, w_pad=1.0, h_pad=1.0)\n",
        "    plt.show()\n",
        "else:\n",
        "    print(\"History object not found. Ensure the model has been trained and the history object is available.\")\n"
      ],
      "metadata": {
        "colab": {
          "base_uri": "https://localhost:8080/",
          "height": 992
        },
        "id": "ZyRD1O-VhWd_",
        "outputId": "65d2ee37-696e-46e6-9bbb-e440131794b5"
      },
      "execution_count": 25,
      "outputs": [
        {
          "output_type": "display_data",
          "data": {
            "text/plain": [
              "<Figure size 1000x1000 with 2 Axes>"
            ],
            "image/png": "[encoded data removed]"
          },
          "metadata": {}
        }
      ]
    },
    {
      "cell_type": "markdown",
      "source": [
        "### Arsitektur Resnet50"
      ],
      "metadata": {
        "id": "FwcQjX9UU-Dc"
      }
    },
    {
      "cell_type": "code",
      "source": [
        "from tensorflow.keras.applications.resnet50 import ResNet50\n",
        "\n",
        "ttl = 'Arsitektur ResNet50'\n",
        "\n",
        "pre_traned_model = ResNet50(input_shape = (224,224,3), include_top = False, weights = 'imagenet')\n",
        "\n",
        "for layer in pre_trained_model.layers:\n",
        "  layer.trainable = False"
      ],
      "metadata": {
        "id": "ubgpqqifU8_G",
        "colab": {
          "base_uri": "https://localhost:8080/"
        },
        "outputId": "462c42da-3ee6-43a6-b07d-f5a2db19b21c"
      },
      "execution_count": 22,
      "outputs": [
        {
          "output_type": "stream",
          "name": "stdout",
          "text": [
            "Downloading data from https://storage.googleapis.com/tensorflow/keras-applications/resnet/resnet50_weights_tf_dim_ordering_tf_kernels_notop.h5\n",
            "94765736/94765736 [==============================] - 1s 0us/step\n"
          ]
        }
      ]
    },
    {
      "cell_type": "code",
      "source": [
        "resnet_model = Sequential()\n",
        "resnet_model.add(pre_trained_model)\n",
        "resnet_model.add(Flatten())\n",
        "resnet_model.add(Dense(512, activation = 'relu'))\n",
        "resnet_model.add(Dense(num_class, activation = 'softmax'))\n",
        "\n",
        "resnet_model.compile(optimizer=Adam(learning_rate = 0.001), loss = 'categorical_crossentropy',\n",
        "                     metrics=['accuracy'])\n",
        "\n",
        "epochs = 5\n",
        "history = resnet_model.fit(train_generator,\n",
        "                           epochs = epochs\n",
        "                    steps_per_epoch = len(train_generator),\n",
        "                    validation_data = validation_generator,\n",
        "                    validation_steps = len(validation_generator))"
      ],
      "metadata": {
        "id": "Z7xHvhZ4VGYX",
        "colab": {
          "base_uri": "https://localhost:8080/"
        },
        "outputId": "d0a94850-0801-48e7-8140-e69163be29d0"
      },
      "execution_count": 24,
      "outputs": [
        {
          "output_type": "stream",
          "name": "stderr",
          "text": [
            "\rCopying files: 3 files [14:56, 298.82s/ files]\n"
          ]
        },
        {
          "output_type": "stream",
          "name": "stdout",
          "text": [
            "34/34 [==============================] - 271s 8s/step - loss: 57.5767 - accuracy: 0.3103 - val_loss: 1.3907 - val_accuracy: 0.3544\n"
          ]
        }
      ]
    },
    {
      "cell_type": "code",
      "source": [
        "prediction = resnet_model.predict(validation_generator)\n",
        "predicted_class = prediction.argmax(axis=-1)\n",
        "predicted_class"
      ],
      "metadata": {
        "id": "4vm8NK0xVKYZ"
      },
      "execution_count": null,
      "outputs": []
    },
    {
      "cell_type": "code",
      "source": [
        "print(classification_report(true_class, predicted_class))"
      ],
      "metadata": {
        "id": "YtEcnRqZVMm1"
      },
      "execution_count": null,
      "outputs": []
    },
    {
      "cell_type": "code",
      "source": [
        "import matplotlib.pyplot as plt\n",
        "\n",
        "SMALL_SIZE = 12\n",
        "MEDIUM_SIZE = 13\n",
        "BIGGER_SIZE = 16\n",
        "\n",
        "plt.rc('font', size=BIGGER_SIZE)\n",
        "plt.rc('axes', titlesize=14)\n",
        "plt.rc('axes', labelsize=14)\n",
        "plt.rc('xtick', labelsize=MEDIUM_SIZE)\n",
        "plt.rc('ytick'. labelsize=MEDIUM_SIZE)\n",
        "plt.rc('legend', fontsize=MEDIUM_SIZE)\n",
        "plt.rc('figure', titlesize=BIGGER_SIZE)\n",
        "\n",
        "acc = history.history['accuracy']\n",
        "val_acc = history.history['val_accuracy']\n",
        "\n",
        "loss = history.history['loss']\n",
        "val_loss = history.history['val_loss']\n",
        "\n",
        "epochs_range = range(epochs)\n",
        "\n",
        "plt.figure(figsize=(10, 10))\n",
        "plt.subplot(2, 1, 1)\n",
        "plt.plot(epochs_range, acc, color='red', label='Training Accuracy')\n",
        "plt.plot(epochs_range, val_acc, color='blue', label='Validation Accuracy')\n",
        "plt.ylabel('Accuracy')\n",
        "plt.xlabel('Epoch')\n",
        "plt.axis([0, 50, 0, 1])\n",
        "plt.legend(loc='lower right')\n",
        "\n",
        "plt.title('Accuracy ResNet50')\n",
        "\n",
        "plt.subplot(2, 1, 2)\n",
        "plt.plot(epochs_range, loss, color='red', label='Training Loss')\n",
        "plt.plot(epochs_range, val_loss, color='blue', label='Validation Loss')\n",
        "plt.legend(loc='upper right')\n",
        "plt.axis([0, 50, 0, 5])\n",
        "plt.ylabel('Loss')\n",
        "plt.xlabe('Epoch')\n",
        "plt.title('Loss ResNet50')\n",
        "plt.tight_layout(pad=1.0, w_pad=1.0, h_pad=1.0)\n",
        "plt.show()"
      ],
      "metadata": {
        "id": "6lnA0hzOVNJI"
      },
      "execution_count": null,
      "outputs": []
    },
    {
      "cell_type": "markdown",
      "source": [
        "### Arsitektur Xception"
      ],
      "metadata": {
        "id": "EpN1qedlVQHp"
      }
    },
    {
      "cell_type": "code",
      "source": [
        "from tensorflow.keras.applications.xception import Xception\n",
        "\n",
        "pre_trained_model = Xception(input_shape = (224,224,3), include_top = False, weights = 'imagenet')\n",
        "\n",
        "for layer in pre_trained_model.layers:\n",
        "  layer.trainable = False"
      ],
      "metadata": {
        "id": "Q1uPZS2MVUe1"
      },
      "execution_count": null,
      "outputs": []
    },
    {
      "cell_type": "code",
      "source": [
        "model = Sequential()\n",
        "model.add(pre_trained_model)\n",
        "model.add(Flatten())\n",
        "model.add(Dense(512, activation = 'relu'))\n",
        "model.add(Dense(num_class, activation = 'softmax'))\n",
        "\n",
        "model.compile(optimizer=Adam(learning_rate = 0.001), loss = 'categorical_crossentropy',\n",
        "              metrics= ['accuracy'])\n",
        "\n",
        "epochs = 5\n",
        "history = resnet_model.fit(train_generator,\n",
        "                           epochs = epochs\n",
        "                    steps_per_epoch = len(train_generator),\n",
        "                    validation_data = validation_generator,\n",
        "                    validation_steps = len(validation_generator))"
      ],
      "metadata": {
        "id": "UL7M3wn-VZpe"
      },
      "execution_count": null,
      "outputs": []
    },
    {
      "cell_type": "code",
      "source": [
        "import matplotlib.pyplot as plt\n",
        "\n",
        "SMALL_SIZE = 12\n",
        "MEDIUM_SIZE = 13\n",
        "BIGGER_SIZE = 16\n",
        "\n",
        "plt.rc('font', size=BIGGER_SIZE)\n",
        "plt.rc('axes', titlesize=14)\n",
        "plt.rc('axes', labelsize=14)\n",
        "plt.rc('xtick', labelsize=MEDIUM_SIZE)\n",
        "plt.rc('ytick'. labelsize=MEDIUM_SIZE)\n",
        "plt.rc('legend', fontsize=MEDIUM_SIZE)\n",
        "plt.rc('figure', titlesize=BIGGER_SIZE)\n",
        "\n",
        "acc = history.history['accuracy']\n",
        "val_acc = history.history['val_accuracy']\n",
        "\n",
        "loss = history.history['loss']\n",
        "val_loss = history.history['val_loss']\n",
        "\n",
        "epochs_range = range(epochs)\n",
        "\n",
        "plt.figure(figsize=(10, 10))\n",
        "plt.subplot(2, 1, 1)\n",
        "plt.plot(epochs_range, acc, color='red', label='Training Accuracy')\n",
        "plt.plot(epochs_range, val_acc, color='blue', label='Validation Accuracy')\n",
        "plt.ylabel('Accuracy')\n",
        "plt.xlabel('Epoch')\n",
        "plt.axis([0, 50, 0, 1])\n",
        "plt.legend(loc='lower right')\n",
        "\n",
        "plt.title('Accuracy ResNet50')\n",
        "\n",
        "plt.subplot(2, 1, 2)\n",
        "plt.plot(epochs_range, loss, color='red', label='Training Loss')\n",
        "plt.plot(epochs_range, val_loss, color='blue', label='Validation Loss')\n",
        "plt.legend(loc='upper right')\n",
        "plt.axis([0, 50, 0, 5])\n",
        "plt.ylabel('Loss')\n",
        "plt.xlabe('Epoch')\n",
        "plt.title('Loss Xception')\n",
        "plt.tight_layout(pad=1.0, w_pad=1.0, h_pad=1.0)\n",
        "plt.show()"
      ],
      "metadata": {
        "id": "riYo1-DyVdZw"
      },
      "execution_count": null,
      "outputs": []
    },
    {
      "cell_type": "code",
      "source": [
        "predict = model.predict_generator(validation_generator, len(validation_generator))\n",
        "class_predict = predict.argmax(axis=1)"
      ],
      "metadata": {
        "id": "NnXLHEXcVg2k"
      },
      "execution_count": null,
      "outputs": []
    },
    {
      "cell_type": "code",
      "source": [
        "print(classification_report(true_class, class_predict)"
      ],
      "metadata": {
        "id": "6K6cQ8xxViu7"
      },
      "execution_count": null,
      "outputs": []
    },
    {
      "cell_type": "markdown",
      "source": [
        "### Arsitektur MobileNet"
      ],
      "metadata": {
        "id": "ZfrR1MPzV2yL"
      }
    },
    {
      "cell_type": "code",
      "source": [
        "from tensorflow.keras.applications.mobilenet import MobileNet\n",
        "from tensorflow.keras.preprocessing.image import ImageDataGenerator\n",
        "from tensorflow.keras import layers, Model\n",
        "\n",
        "pre_trained_model = MobileNet(input_shape=(224, 224, 3), include_top=False, weights='imagenet')\n",
        "\n",
        "# Freeze all the layers in the base model\n",
        "for layer in pre_trained_model.layers:\n",
        "    layer.trainable = False\n",
        "\n",
        "\n",
        "model = Sequential()\n",
        "model.add(pre_trained_model)\n",
        "model.add(Flatten())\n",
        "model.add(Dense(512, activation = 'relu'))\n",
        "model.add(Dense(num_class, activation = 'softmax'))\n",
        "\n",
        "model.compile(optimizer=Adam(learning_rate = 0.001), loss = 'categorical_crossentropy',\n",
        "              metrics==['accuracy'])\n",
        "\n",
        "epochs = 5\n",
        "history = resnet_model.fit(train_generator,\n",
        "                           epochs = epochs\n",
        "                    steps_per_epoch = len(train_generator),\n",
        "                    validation_data = validation_generator,\n",
        "                    validation_steps = len(validation_generator))"
      ],
      "metadata": {
        "id": "Ob1ZM-C6V2IU"
      },
      "execution_count": null,
      "outputs": []
    },
    {
      "cell_type": "code",
      "source": [
        "import matplotlib.pyplot as plt\n",
        "\n",
        "SMALL_SIZE = 12\n",
        "MEDIUM_SIZE = 13\n",
        "BIGGER_SIZE = 16\n",
        "\n",
        "plt.rc('font', size=BIGGER_SIZE)\n",
        "plt.rc('axes', titlesize=14)\n",
        "plt.rc('axes', labelsize=14)\n",
        "plt.rc('xtick', labelsize=MEDIUM_SIZE)\n",
        "plt.rc('ytick'. labelsize=MEDIUM_SIZE)\n",
        "plt.rc('legend', fontsize=MEDIUM_SIZE)\n",
        "plt.rc('figure', titlesize=BIGGER_SIZE)\n",
        "\n",
        "acc = history.history['accuracy']\n",
        "val_acc = history.history['val_accuracy']\n",
        "\n",
        "loss = history.history['loss']\n",
        "val_loss = history.history['val_loss']\n",
        "\n",
        "epochs_range = range(epochs)\n",
        "\n",
        "plt.figure(figsize=(10, 10))\n",
        "plt.subplot(2, 1, 1)\n",
        "plt.plot(epochs_range, acc, color='red', label='Training Accuracy')\n",
        "plt.plot(epochs_range, val_acc, color='blue', label='Validation Accuracy')\n",
        "plt.ylabel('Accuracy')\n",
        "plt.xlabel('Epoch')\n",
        "plt.axis([0, 50, 0, 1])\n",
        "plt.legend(loc='lower right')\n",
        "\n",
        "plt.title('Accuracy ResNet50')\n",
        "\n",
        "plt.subplot(2, 1, 2)\n",
        "plt.plot(epochs_range, loss, color='red', label='Training Loss')\n",
        "plt.plot(epochs_range, val_loss, color='blue', label='Validation Loss')\n",
        "plt.legend(loc='upper right')\n",
        "plt.axis([0, 50, 0, 5])\n",
        "plt.ylabel('Loss')\n",
        "plt.xlabe('Epoch')\n",
        "plt.title('Loss Xception')\n",
        "plt.tight_layout(pad=1.0, w_pad=1.0, h_pad=1.0)\n",
        "plt.show()"
      ],
      "metadata": {
        "id": "j8vcRMgbWJ4h"
      },
      "execution_count": null,
      "outputs": []
    },
    {
      "cell_type": "code",
      "source": [
        "predict = model.predict_generator(validation_generator, len(validation_generator))\n",
        "class_predict = predict.argmax(axis=1)"
      ],
      "metadata": {
        "id": "KLwVKFvFWQ-z"
      },
      "execution_count": null,
      "outputs": []
    },
    {
      "cell_type": "code",
      "source": [
        "print(classification_report(true_class, class_predict)"
      ],
      "metadata": {
        "id": "wBoyMGHlWSsi"
      },
      "execution_count": null,
      "outputs": []
    },
    {
      "cell_type": "markdown",
      "source": [
        "### Arsitektur EfficientNet"
      ],
      "metadata": {
        "id": "P5RNvykDWUx9"
      }
    },
    {
      "cell_type": "code",
      "source": [
        "from tensorflow.keras.applications.efficientnet import EfficientNetB0\n",
        "from tensorflow.keras.preprocessing.image import ImageDataGenerator\n",
        "from tensorflow.keras import layers, Model\n",
        "\n",
        "# Load the pre-trained EfficientNetB0 model without the top layers\n",
        "pre_trained_model = EfficientNetB0(input_shape=(224, 224, 3), include_top=False, weights='imagenet')\n",
        "\n",
        "# Freeze all the layers in the base model\n",
        "for layer in pre_trained_model.layers:\n",
        "    layer.trainable = False\n",
        "\n",
        "\n",
        "\n",
        "model = Sequential()\n",
        "model.add(pre_trained_model)\n",
        "model.add(Flatten())\n",
        "model.add(Dense(512, activation = 'relu'))\n",
        "model.add(Dense(num_class, activation = 'softmax'))\n",
        "\n",
        "model.compile(optimizer=Adam(learning_rate = 0.001), loss = 'categorical_crossentropy',\n",
        "              metrics==['accuracy'])\n",
        "\n",
        "epochs = 5\n",
        "history = resnet_model.fit(train_generator,\n",
        "                           epochs = epochs\n",
        "                    steps_per_epoch = len(train_generator),\n",
        "                    validation_data = validation_generator,\n",
        "                    validation_steps = len(validation_generator))"
      ],
      "metadata": {
        "id": "R2PWWAg9WXUb"
      },
      "execution_count": null,
      "outputs": []
    },
    {
      "cell_type": "code",
      "source": [],
      "metadata": {
        "id": "KhI1v2nqWbjQ"
      },
      "execution_count": null,
      "outputs": []
    }
  ]
}